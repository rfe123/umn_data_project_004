{
  "cells": [
    {
      "cell_type": "code",
      "execution_count": null,
      "metadata": {},
      "outputs": [],
      "source": [
        "import pandas as pd\n",
        "import glob\n",
        "import requests\n",
        "import sqlite3"
      ]
    },
    {
      "cell_type": "code",
      "execution_count": null,
      "metadata": {},
      "outputs": [],
      "source": [
        "# Load Teams API data\n",
        "teams_json = requests.get('https://site.api.espn.com/apis/site/v2/sports/football/nfl/teams').json()\n",
        "teams = teams_json['sports'][0]['leagues'][0]['teams']\n",
        "\n",
        "team_dict = []\n",
        "\n",
        "for t in teams:\n",
        "    team_dict.append({\n",
        "        'id': t['team']['id'],\n",
        "        'color': t['team']['color'],\n",
        "        'alternateColor': t['team']['color'],\n",
        "        'logo': t['team']['logos'][0]['href'],\n",
        "        'abbreviation': t['team']['abbreviation'],\n",
        "        'displayName': t['team']['displayName'],\n",
        "        'location': t['team']['location'],\n",
        "        'name': t['team']['name'],\n",
        "        'nickname': t['team']['nickname'],\n",
        "        'shortDisplayName': t['team']['shortDisplayName'],\n",
        "    })\n",
        "\n",
        "# Create Teams DataFrame using team abbreviations as index\n",
        "team_df = pd.DataFrame(team_dict).set_index('abbreviation')\n",
        "team_df"
      ]
    },
    {
      "cell_type": "code",
      "execution_count": null,
      "metadata": {},
      "outputs": [],
      "source": [
        "# load 2024 games DF\n",
        "games_df = pd.concat(map(pd.read_csv, glob.glob(f'data/nfl-big-data-bowl-2024/games.csv')))\n",
        "\n",
        "games_df['homeTeamAbbr'] = games_df['homeTeamAbbr'].replace('LA', 'LAR').replace('WAS', 'WSH')\n",
        "games_df['visitorTeamAbbr'] = games_df['visitorTeamAbbr'].replace('LA', 'LAR').replace('WAS', 'WSH')\n",
        "\n",
        "games_df = games_df.set_index('gameId')\n",
        "games_df.head()"
      ]
    },
    {
      "cell_type": "code",
      "execution_count": null,
      "metadata": {
        "colab": {
          "base_uri": "https://localhost:8080/",
          "height": 429
        },
        "id": "5aC4svXylf8n",
        "outputId": "5f191cf3-ddf3-43e5-fadd-82fcd3f6b415"
      },
      "outputs": [],
      "source": [
        "# plays_df = pd.concat(map(pd.read_csv, glob.glob(f'data/nfl-big-data-bowl-*/plays.csv')))\n",
        "# Import 2024 Plays DF\n",
        "plays_df = pd.read_csv('data/nfl-big-data-bowl-2024/plays.csv')\n",
        "\n",
        "plays_df['possessionTeam'] = plays_df['possessionTeam'].replace('LA', 'LAR').replace('WAS', 'WSH')\n",
        "plays_df['defensiveTeam'] = plays_df['defensiveTeam'].replace('LA', 'LAR').replace('WAS', 'WSH')\n",
        "plays_df['converted'] = (plays_df['playResult'] > plays_df['yardsToGo'])\n",
        "\n",
        "plays_df.head()"
      ]
    },
    {
      "cell_type": "code",
      "execution_count": null,
      "metadata": {
        "colab": {
          "base_uri": "https://localhost:8080/"
        },
        "id": "suHXe7b_q1Hj",
        "outputId": "ddd96cef-9937-4620-f394-a78f86438daf"
      },
      "outputs": [],
      "source": [
        "# Concatenate GameId and PlayID to create a unique ID for plays across games\n",
        "# The dataset re-uses playid values across games\n",
        "plays_df['play_uuid'] = plays_df['gameId'].astype(str) + '.' + plays_df['playId'].astype(str)\n",
        "plays_df = plays_df.set_index('play_uuid')\n",
        "plays_df.head()"
      ]
    },
    {
      "cell_type": "code",
      "execution_count": null,
      "metadata": {},
      "outputs": [],
      "source": [
        "players_df = pd.read_csv('data/nfl-big-data-bowl-2024/players.csv').set_index('nflId')\n",
        "players_df.head()"
      ]
    },
    {
      "cell_type": "code",
      "execution_count": null,
      "metadata": {
        "id": "KwIbLmFunUK_"
      },
      "outputs": [],
      "source": [
        "# (GITHUB COLAB AI) \n",
        "# prompt: load all CSV files with a name like \"tracking_week_\" into a tracking_df dataframe\n",
        "import glob\n",
        "tracking_df = pd.concat(map(pd.read_csv, glob.glob(f'data/nfl-big-data-bowl-2024/*week*.csv')))"
      ]
    },
    {
      "cell_type": "code",
      "execution_count": null,
      "metadata": {
        "colab": {
          "base_uri": "https://localhost:8080/"
        },
        "id": "bcvtvLwYtFI4",
        "outputId": "e2ac4f64-93f8-44f0-cc9c-67a6e6f2ce3a"
      },
      "outputs": [],
      "source": [
        "# generate same Play-UUID for frame lookup\n",
        "tracking_df['play_uuid'] = tracking_df['gameId'].astype(str) + '.' + tracking_df['playId'].astype(str)\n",
        "tracking_df['play_uuid'].head()"
      ]
    },
    {
      "cell_type": "code",
      "execution_count": null,
      "metadata": {},
      "outputs": [],
      "source": [
        "# Filter tracking_df for the Ball Snap Frames\n",
        "ball_snap_df = tracking_df.loc[(tracking_df['event'] == 'ball_snap')] # Duplicate plays - drop autoevent | (tracking_df['event'] == 'autoevent_ballsnap')]\n",
        "ball_snap_df.head()"
      ]
    },
    {
      "cell_type": "code",
      "execution_count": null,
      "metadata": {},
      "outputs": [],
      "source": [
        "play_ids = plays_df['play_uuid'].unique()\n",
        "play_ids"
      ]
    },
    {
      "cell_type": "code",
      "execution_count": null,
      "metadata": {},
      "outputs": [],
      "source": [
        "position_counts = ball_snap_df[['play_uuid', 'nflId']].groupby('play_uuid').count()\n",
        "snap_ids = position_counts.loc[(position_counts['nflId'] == 22)].index\n",
        "snap_ids"
      ]
    },
    {
      "cell_type": "code",
      "execution_count": null,
      "metadata": {},
      "outputs": [],
      "source": [
        "flat_frames_dict = []\n",
        "\n",
        "for play in snap_ids:\n",
        "    play_frame = ball_snap_df.loc[(ball_snap_df['play_uuid'] == play)]\n",
        "    frame_dict = {'play_uuid': play}\n",
        "\n",
        "    for i in range(len(play_frame)):\n",
        "        frame_dict['x' + str(i)] = play_frame.iloc[i]['x']\n",
        "        frame_dict['y' + str(i)] = play_frame.iloc[i]['y']\n",
        "        frame_dict['s' + str(i)] = play_frame.iloc[i]['s']\n",
        "        frame_dict['a' + str(i)] = play_frame.iloc[i]['a']\n",
        "        frame_dict['dis' + str(i)] = play_frame.iloc[i]['dis']\n",
        "        if i<22:\n",
        "            frame_dict['o' + str(i)] = play_frame.iloc[i]['o']\n",
        "            frame_dict['dir' + str(i)] = play_frame.iloc[i]['dir']\n",
        "    \n",
        "    flat_frames_dict.append(frame_dict)\n",
        "\n",
        "transposed_frames_df = pd.DataFrame(flat_frames_dict).set_index('play_uuid')\n"
      ]
    },
    {
      "cell_type": "code",
      "execution_count": null,
      "metadata": {},
      "outputs": [],
      "source": [
        "# flat_frames_dict = []\n",
        "\n",
        "# for play in all_22_play_ids:\n",
        "#     play_frame = ball_snap_df.loc[(ball_snap_df['play_uuid'] == play)]\n",
        "#     frame_dict = {'play_uuid': play}\n",
        "\n",
        "#     for i in range(23):\n",
        "#         nflId = play_frame.iloc[i]['nflId']\n",
        "#         if nflId == nflId:\n",
        "#             player = players_df.loc[int(nflId)]\n",
        "#             player_position = player['position']\n",
        "#         else:\n",
        "#             player_position = 'football'\n",
        "\n",
        "#         frame_dict['x_' + player_position] = play_frame.iloc[i]['x']\n",
        "#         frame_dict['y_' + player_position] = play_frame.iloc[i]['y']\n",
        "#         frame_dict['s_' + player_position] = play_frame.iloc[i]['s']\n",
        "#         frame_dict['a_' + player_position] = play_frame.iloc[i]['a']\n",
        "#         frame_dict['dis_' + player_position] = play_frame.iloc[i]['dis']\n",
        "#         if i<22:\n",
        "#             frame_dict['o_' + player_position] = play_frame.iloc[i]['o']\n",
        "#             frame_dict['dir_' + player_position] = play_frame.iloc[i]['dir']\n",
        "    \n",
        "#     flat_frames_dict.append(frame_dict)\n",
        "\n",
        "# transposed_frames_df = pd.DataFrame(flat_frames_dict)\n"
      ]
    },
    {
      "cell_type": "code",
      "execution_count": null,
      "metadata": {},
      "outputs": [],
      "source": [
        "transposed_frames_df"
      ]
    },
    {
      "cell_type": "code",
      "execution_count": null,
      "metadata": {},
      "outputs": [],
      "source": [
        "len(plays_df)"
      ]
    },
    {
      "cell_type": "code",
      "execution_count": null,
      "metadata": {},
      "outputs": [],
      "source": [
        "transposed_frame_conversions_df = transposed_frames_df.merge(plays_df['converted'], on='play_uuid', how='left')\n",
        "transposed_frame_conversions_df.head()"
      ]
    },
    {
      "cell_type": "code",
      "execution_count": null,
      "metadata": {},
      "outputs": [],
      "source": [
        "# Write data to Sqlite\n",
        "conn = sqlite3.connect('data/sqlite/nfl_data.sqlite')\n"
      ]
    },
    {
      "cell_type": "code",
      "execution_count": null,
      "metadata": {},
      "outputs": [],
      "source": [
        "team_df.to_sql('teams',conn,if_exists='replace', index='abbreviation')"
      ]
    },
    {
      "cell_type": "code",
      "execution_count": null,
      "metadata": {},
      "outputs": [],
      "source": [
        "games_df.to_sql('games',conn,if_exists='replace', index='gameId')"
      ]
    },
    {
      "cell_type": "code",
      "execution_count": null,
      "metadata": {},
      "outputs": [],
      "source": [
        "plays_df.to_sql('plays',conn,if_exists='replace', index='play_uuid')"
      ]
    },
    {
      "cell_type": "code",
      "execution_count": null,
      "metadata": {},
      "outputs": [],
      "source": [
        "players_df.to_sql('players', conn, if_exists='replace', index='nflId')"
      ]
    },
    {
      "cell_type": "code",
      "execution_count": null,
      "metadata": {},
      "outputs": [],
      "source": [
        "#tracking_df.to_sql('tracking', conn, if_exists='replace')"
      ]
    },
    {
      "cell_type": "code",
      "execution_count": null,
      "metadata": {},
      "outputs": [],
      "source": [
        "transposed_frames_df.to_sql('snap_formations', conn, if_exists='replace', index='play_uuid')"
      ]
    }
  ],
  "metadata": {
    "colab": {
      "provenance": []
    },
    "kernelspec": {
      "display_name": "Python 3",
      "name": "python3"
    },
    "language_info": {
      "codemirror_mode": {
        "name": "ipython",
        "version": 3
      },
      "file_extension": ".py",
      "mimetype": "text/x-python",
      "name": "python",
      "nbconvert_exporter": "python",
      "pygments_lexer": "ipython3",
      "version": "3.10.13"
    }
  },
  "nbformat": 4,
  "nbformat_minor": 0
}
